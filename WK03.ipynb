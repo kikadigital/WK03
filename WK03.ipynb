{
  "nbformat": 4,
  "nbformat_minor": 0,
  "metadata": {
    "colab": {
      "provenance": [],
      "authorship_tag": "ABX9TyNMQxW6XeybaTC06V+yeCoA"
    },
    "kernelspec": {
      "name": "python3",
      "display_name": "Python 3"
    },
    "language_info": {
      "name": "python"
    }
  },
  "cells": [
    {
      "cell_type": "markdown",
      "source": [
        "# Week 03 exercises"
      ],
      "metadata": {
        "id": "Ty-DVrJlaN1T"
      }
    },
    {
      "cell_type": "markdown",
      "source": [
        "## Setup\n",
        "\n",
        "Include some helper functions and libraries"
      ],
      "metadata": {
        "id": "s-e8uvrIca09"
      }
    },
    {
      "cell_type": "code",
      "source": [
        "import random"
      ],
      "metadata": {
        "id": "uHIQDMJ-WTei"
      },
      "execution_count": null,
      "outputs": []
    },
    {
      "cell_type": "markdown",
      "source": [
        "## Lists"
      ],
      "metadata": {
        "id": "sX5wEtIkWKhD"
      }
    },
    {
      "cell_type": "markdown",
      "source": [
        "### Create a list of 10 random numbers between 0 and 2000"
      ],
      "metadata": {
        "id": "hBs429yN9wYE"
      }
    },
    {
      "cell_type": "code",
      "source": [
        "list_of_randoms = []\n",
        "\n",
        "for i in range(0, 10):\n",
        "  n = random.randint(0, 2000)\n",
        "  list_of_randoms.append(n)\n",
        "\n",
        "print(list_of_randoms)\n",
        "print(len(list_of_randoms))"
      ],
      "metadata": {
        "id": "36_m35zIyN2h"
      },
      "execution_count": null,
      "outputs": []
    },
    {
      "cell_type": "markdown",
      "source": [
        "### Print the numbers and their index"
      ],
      "metadata": {
        "id": "7Aw4WiDS92MU"
      }
    },
    {
      "cell_type": "code",
      "source": [
        "for i in range(0, 10):\n",
        "  print(\"element\", i, \"is\", list_of_randoms[i])"
      ],
      "metadata": {
        "id": "h3ochjQlzQ4e"
      },
      "execution_count": null,
      "outputs": []
    },
    {
      "cell_type": "markdown",
      "source": [
        "### Python has a very useful function for sorting lists."
      ],
      "metadata": {
        "id": "8sYq0tQj6z0e"
      }
    },
    {
      "cell_type": "code",
      "source": [
        "my_sorted_list = sorted(list_of_randoms)\n",
        "\n",
        "print(my_sorted_list)\n",
        "print(len(my_sorted_list))"
      ],
      "metadata": {
        "id": "DJlfGTZZ6SJt"
      },
      "execution_count": null,
      "outputs": []
    },
    {
      "cell_type": "markdown",
      "source": [
        "### With a sorted list we can print the 5 smallest and 5 largest elements"
      ],
      "metadata": {
        "id": "zIJjJ8rx_W8s"
      }
    },
    {
      "cell_type": "code",
      "source": [
        "print(my_sorted_list[:5])\n",
        "print(my_sorted_list[-5:])"
      ],
      "metadata": {
        "id": "ytoCAy4p_dCZ"
      },
      "execution_count": null,
      "outputs": []
    },
    {
      "cell_type": "markdown",
      "source": [
        "## Objects/Dictionaries"
      ],
      "metadata": {
        "id": "tEQUt3lwY2xE"
      }
    },
    {
      "cell_type": "markdown",
      "source": [
        "### Creating objects"
      ],
      "metadata": {
        "id": "QSodBdxw0byR"
      }
    },
    {
      "cell_type": "code",
      "source": [
        "my_info = {\n",
        "  \"name\": \"thiago\",\n",
        "  \"id\": 8114,\n",
        "  \"zip\": 11001,\n",
        "  \"grades\": [90, 80, 60],\n",
        "  \"attendance\": [True, True, False, True, True],\n",
        "  \"final grade\": \"A\"\n",
        "}"
      ],
      "metadata": {
        "id": "Hukt4YNv0avQ"
      },
      "execution_count": null,
      "outputs": []
    },
    {
      "cell_type": "code",
      "source": [
        "my_info"
      ],
      "metadata": {
        "id": "-LBHNWgd9t3k"
      },
      "execution_count": null,
      "outputs": []
    },
    {
      "cell_type": "markdown",
      "source": [
        "### Iterating over key/values"
      ],
      "metadata": {
        "id": "k2sCp_La1PiP"
      }
    },
    {
      "cell_type": "code",
      "source": [
        "for key, val in my_info.items():\n",
        "  print(\"key\", key, \"has value\", val)"
      ],
      "metadata": {
        "id": "Mkw7MQWg1SYW"
      },
      "execution_count": null,
      "outputs": []
    },
    {
      "cell_type": "markdown",
      "source": [
        "### Accessing values at specific keys"
      ],
      "metadata": {
        "id": "RJog1ZUU1kqO"
      }
    },
    {
      "cell_type": "code",
      "source": [
        "my_grades = my_info[\"grades\"]\n",
        "print(my_grades)"
      ],
      "metadata": {
        "id": "xvoyXmaJ1jtp"
      },
      "execution_count": null,
      "outputs": []
    },
    {
      "cell_type": "code",
      "source": [
        "# TODO: Sum of grades"
      ],
      "metadata": {
        "id": "oJFC6YXM1zXp"
      },
      "execution_count": null,
      "outputs": []
    },
    {
      "cell_type": "code",
      "source": [
        "# TODO: Average attendance"
      ],
      "metadata": {
        "id": "_RdS3XvI11jv"
      },
      "execution_count": null,
      "outputs": []
    },
    {
      "cell_type": "markdown",
      "source": [
        "### List of objects\n",
        "\n",
        "Creating a list of 10 objects with random heights and brooklyn zip codes."
      ],
      "metadata": {
        "id": "YIV3UD4N7rvd"
      }
    },
    {
      "cell_type": "code",
      "source": [
        "my_data = []\n",
        "\n",
        "for c in range(0, 10):\n",
        "  my_object = {\n",
        "    \"height\": random.randint(60, 70),\n",
        "    \"zip\": random.randint(11200, 11240)\n",
        "  }\n",
        "\n",
        "  my_data.append(my_object)"
      ],
      "metadata": {
        "id": "JZ0HeNOh7xRY"
      },
      "execution_count": null,
      "outputs": []
    },
    {
      "cell_type": "code",
      "source": [
        "for d in my_data:\n",
        "  print(d)"
      ],
      "metadata": {
        "id": "r9uxkXFJ-31z"
      },
      "execution_count": null,
      "outputs": []
    },
    {
      "cell_type": "markdown",
      "source": [
        "## Functions\n",
        "\n",
        "Repeatable code with parameters"
      ],
      "metadata": {
        "id": "xB3yvp9rQzDB"
      }
    },
    {
      "cell_type": "code",
      "source": [
        "def say_hello(name):\n",
        "  print(\"hello \" + name + \". How are you today?\")\n",
        "\n",
        "say_hello(\"thiago\")\n",
        "say_hello(\"dominique\")\n",
        "say_hello(\"pepe\")"
      ],
      "metadata": {
        "id": "HmKQsv0ERh2-"
      },
      "execution_count": null,
      "outputs": []
    },
    {
      "cell_type": "markdown",
      "source": [
        "## Return values\n",
        "\n",
        "Functions can also return values calculated from the parameters"
      ],
      "metadata": {
        "id": "Rj5q33lzR9sE"
      }
    },
    {
      "cell_type": "code",
      "source": [
        "def add2(A, B):\n",
        "  return A + B\n",
        "\n",
        "x = add2(20, 30)\n",
        "y = add2(30, 55)\n",
        "\n",
        "print(x, y)"
      ],
      "metadata": {
        "id": "AbK9xOYtQ0NG"
      },
      "execution_count": null,
      "outputs": []
    },
    {
      "cell_type": "markdown",
      "source": [
        "### Function to calculate average of list"
      ],
      "metadata": {
        "id": "EuhudlxAREbv"
      }
    },
    {
      "cell_type": "code",
      "source": [
        "def list_average(mlist):\n",
        "  # TODO\n",
        "  pass"
      ],
      "metadata": {
        "id": "XqyFBs36RSJs"
      },
      "execution_count": null,
      "outputs": []
    },
    {
      "cell_type": "code",
      "source": [
        "random_list_0 = []\n",
        "random_list_1 = []\n",
        "\n",
        "for c in range(0, 10):\n",
        "  random_list_0.append(random.randint(0, 200))\n",
        "\n",
        "for c in range(0, 50):\n",
        "  random_list_1.append(random.randint(1000, 2000))\n",
        "\n",
        "print(random_list_0)\n",
        "print(random_list_1)"
      ],
      "metadata": {
        "id": "UbBhKRG7Sbmy"
      },
      "execution_count": null,
      "outputs": []
    },
    {
      "cell_type": "code",
      "source": [
        "avg_0 = list_average(random_list_0)\n",
        "avg_1 = list_average(random_list_1)\n",
        "\n",
        "print(avg_0)\n",
        "print(avg_1)"
      ],
      "metadata": {
        "id": "3_OWQmUfStD_"
      },
      "execution_count": null,
      "outputs": []
    },
    {
      "cell_type": "markdown",
      "source": [
        "## Classes\n",
        "\n",
        "Encapsulate data"
      ],
      "metadata": {
        "id": "737rI3qoQ0-m"
      }
    },
    {
      "cell_type": "code",
      "source": [
        "class Person:\n",
        "  def __init__(self, name, age, height):\n",
        "    self.name = name\n",
        "    self.age = age\n",
        "    self.height = height\n",
        "    self.grades = []\n",
        "\n",
        "p0 = Person(\"pepe\", 32, 67)\n",
        "p1 = Person(\"nina\", 30, 60)\n",
        "\n",
        "print(p0)\n",
        "print(p1)"
      ],
      "metadata": {
        "id": "uxz_1PmRQ1zd"
      },
      "execution_count": null,
      "outputs": []
    },
    {
      "cell_type": "markdown",
      "source": [
        "### Access member variables"
      ],
      "metadata": {
        "id": "NG63bfX2XJGE"
      }
    },
    {
      "cell_type": "code",
      "source": [
        "# TODO: print names"
      ],
      "metadata": {
        "id": "9nTskZOUWrcR"
      },
      "execution_count": null,
      "outputs": []
    },
    {
      "cell_type": "markdown",
      "source": [
        "### Encapsulate behavior and calculations"
      ],
      "metadata": {
        "id": "0gXiWyNkW9h7"
      }
    },
    {
      "cell_type": "code",
      "source": [
        "# TODO: add grade\n",
        "# TODO: calculate average grade"
      ],
      "metadata": {
        "id": "_LqG2culXBa0"
      },
      "execution_count": null,
      "outputs": []
    }
  ]
}